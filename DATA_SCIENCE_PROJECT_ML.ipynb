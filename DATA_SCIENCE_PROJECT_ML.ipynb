{
  "nbformat": 4,
  "nbformat_minor": 0,
  "metadata": {
    "kernelspec": {
      "display_name": "Python 3",
      "language": "python",
      "name": "python3"
    },
    "language_info": {
      "codemirror_mode": {
        "name": "ipython",
        "version": 3
      },
      "file_extension": ".py",
      "mimetype": "text/x-python",
      "name": "python",
      "nbconvert_exporter": "python",
      "pygments_lexer": "ipython3",
      "version": "3.8.3"
    },
    "colab": {
      "name": "DATA_SCIENCE_PROJECT_ML.ipynb",
      "provenance": []
    }
  },
  "cells": [
    {
      "cell_type": "code",
      "metadata": {
        "id": "dSnWQu4Cc6qe"
      },
      "source": [
        "# GROUP MEMBERS\n",
        "# UROOSA ASIM (FA18-BSCS-0084)\n",
        "# ASMA LATIF (FA18-BSCS-0131)"
      ],
      "execution_count": null,
      "outputs": []
    },
    {
      "cell_type": "markdown",
      "metadata": {
        "id": "oFtI_8QWc6qk"
      },
      "source": [
        "# MACHINE LEARNING ALGORITHMS"
      ]
    },
    {
      "cell_type": "code",
      "metadata": {
        "id": "74e7UDY0c6qk"
      },
      "source": [
        "import numpy as np\n",
        "import pandas as pd\n",
        "import matplotlib.pyplot as plt\n",
        "import seaborn as sns\n",
        "from sklearn.preprocessing import LabelEncoder\n",
        "from sklearn.linear_model import LogisticRegression\n",
        "from sklearn.feature_selection import RFE\n",
        "from sklearn.preprocessing import StandardScaler\n",
        "from sklearn.tree import DecisionTreeClassifier\n",
        "from sklearn.metrics import confusion_matrix, classification_report"
      ],
      "execution_count": null,
      "outputs": []
    },
    {
      "cell_type": "code",
      "metadata": {
        "id": "lftH75FHc6ql"
      },
      "source": [
        "#read the datasets\n",
        "train = pd.read_csv(\"E:/Data Set/train.csv\")\n",
        "test = pd.read_csv(\"E:/Data Set/test.csv\")"
      ],
      "execution_count": null,
      "outputs": []
    },
    {
      "cell_type": "code",
      "metadata": {
        "id": "bNW_KeSEc6ql"
      },
      "source": [
        "target = pd.read_csv(\"C:\\\\Users\\\\Uroosa Asim\\\\Downloads\\\\sample_submission.csv\")"
      ],
      "execution_count": null,
      "outputs": []
    },
    {
      "cell_type": "code",
      "metadata": {
        "id": "_W285AqWc6ql",
        "outputId": "1fbbbfbe-629e-4ef7-d2ca-c81210b24e50"
      },
      "source": [
        "target.head()"
      ],
      "execution_count": null,
      "outputs": [
        {
          "output_type": "execute_result",
          "data": {
            "text/html": [
              "<div>\n",
              "<style scoped>\n",
              "    .dataframe tbody tr th:only-of-type {\n",
              "        vertical-align: middle;\n",
              "    }\n",
              "\n",
              "    .dataframe tbody tr th {\n",
              "        vertical-align: top;\n",
              "    }\n",
              "\n",
              "    .dataframe thead th {\n",
              "        text-align: right;\n",
              "    }\n",
              "</style>\n",
              "<table border=\"1\" class=\"dataframe\">\n",
              "  <thead>\n",
              "    <tr style=\"text-align: right;\">\n",
              "      <th></th>\n",
              "      <th>id</th>\n",
              "      <th>Response</th>\n",
              "    </tr>\n",
              "  </thead>\n",
              "  <tbody>\n",
              "    <tr>\n",
              "      <th>0</th>\n",
              "      <td>381110</td>\n",
              "      <td>0</td>\n",
              "    </tr>\n",
              "    <tr>\n",
              "      <th>1</th>\n",
              "      <td>381111</td>\n",
              "      <td>0</td>\n",
              "    </tr>\n",
              "    <tr>\n",
              "      <th>2</th>\n",
              "      <td>381112</td>\n",
              "      <td>0</td>\n",
              "    </tr>\n",
              "    <tr>\n",
              "      <th>3</th>\n",
              "      <td>381113</td>\n",
              "      <td>0</td>\n",
              "    </tr>\n",
              "    <tr>\n",
              "      <th>4</th>\n",
              "      <td>381114</td>\n",
              "      <td>0</td>\n",
              "    </tr>\n",
              "  </tbody>\n",
              "</table>\n",
              "</div>"
            ],
            "text/plain": [
              "       id  Response\n",
              "0  381110         0\n",
              "1  381111         0\n",
              "2  381112         0\n",
              "3  381113         0\n",
              "4  381114         0"
            ]
          },
          "metadata": {
            "tags": []
          },
          "execution_count": 24
        }
      ]
    },
    {
      "cell_type": "code",
      "metadata": {
        "id": "H2FySfz8c6qn"
      },
      "source": [
        "encoder= LabelEncoder()\n",
        "test[\"Gender\"]=encoder.fit_transform(test[\"Gender\"])\n",
        "test[\"Vehicle_Age\"]=encoder.fit_transform(test[\"Vehicle_Age\"])\n",
        "test[\"Vehicle_Damage\"]=encoder.fit_transform(test[\"Vehicle_Damage\"])"
      ],
      "execution_count": null,
      "outputs": []
    },
    {
      "cell_type": "code",
      "metadata": {
        "id": "6lWjgZ0lc6qn",
        "outputId": "9cacb696-66c2-49d9-8c16-b2e93f1b6b4b"
      },
      "source": [
        "test[\"Vehicle_Age\"].unique()"
      ],
      "execution_count": null,
      "outputs": [
        {
          "output_type": "execute_result",
          "data": {
            "text/plain": [
              "array([1, 0, 2])"
            ]
          },
          "metadata": {
            "tags": []
          },
          "execution_count": 28
        }
      ]
    },
    {
      "cell_type": "code",
      "metadata": {
        "id": "Ca-PqVrrc6qo",
        "outputId": "fe5da788-2dfc-4f2b-e9c0-94bbeb97870e"
      },
      "source": [
        "test['Vehicle_Damage'].unique()"
      ],
      "execution_count": null,
      "outputs": [
        {
          "output_type": "execute_result",
          "data": {
            "text/plain": [
              "array([0, 1])"
            ]
          },
          "metadata": {
            "tags": []
          },
          "execution_count": 29
        }
      ]
    },
    {
      "cell_type": "code",
      "metadata": {
        "id": "U-0p4cHpc6qo"
      },
      "source": [
        "test_df=test[[\"Gender\",\"Vehicle_Age\",\"Vehicle_Damage\",\"Age\",\"Driving_License\",\"Region_Code\",\"Previously_Insured\",\"Policy_Sales_Channel\",\"Vintage\"]]"
      ],
      "execution_count": null,
      "outputs": []
    },
    {
      "cell_type": "code",
      "metadata": {
        "id": "8n4ydntPc6qo"
      },
      "source": [
        "encoder= LabelEncoder()\n",
        "train[\"Gender\"]=encoder.fit_transform(train[\"Gender\"])\n",
        "train[\"Vehicle_Age\"]=encoder.fit_transform(train[\"Vehicle_Age\"])\n",
        "train[\"Vehicle_Damage\"]=encoder.fit_transform(train[\"Vehicle_Damage\"])"
      ],
      "execution_count": null,
      "outputs": []
    },
    {
      "cell_type": "code",
      "metadata": {
        "id": "jVCb9oDYc6qp"
      },
      "source": [
        "train_df=train[[\"Gender\",\"Vehicle_Age\",\"Vehicle_Damage\",\"Age\",\"Driving_License\",\"Region_Code\",\"Previously_Insured\",\"Policy_Sales_Channel\",\"Vintage\",\"Response\"]]"
      ],
      "execution_count": null,
      "outputs": []
    },
    {
      "cell_type": "code",
      "metadata": {
        "id": "N6M6aUWsc6qp",
        "outputId": "e331f7c0-13b9-45df-9213-106d4f5326a5"
      },
      "source": [
        "correlated_features = set()\n",
        "correlation_matrix = train_df.corr()\n",
        "correlation_matrix"
      ],
      "execution_count": null,
      "outputs": [
        {
          "output_type": "execute_result",
          "data": {
            "text/html": [
              "<div>\n",
              "<style scoped>\n",
              "    .dataframe tbody tr th:only-of-type {\n",
              "        vertical-align: middle;\n",
              "    }\n",
              "\n",
              "    .dataframe tbody tr th {\n",
              "        vertical-align: top;\n",
              "    }\n",
              "\n",
              "    .dataframe thead th {\n",
              "        text-align: right;\n",
              "    }\n",
              "</style>\n",
              "<table border=\"1\" class=\"dataframe\">\n",
              "  <thead>\n",
              "    <tr style=\"text-align: right;\">\n",
              "      <th></th>\n",
              "      <th>Gender</th>\n",
              "      <th>Vehicle_Age</th>\n",
              "      <th>Vehicle_Damage</th>\n",
              "      <th>Age</th>\n",
              "      <th>Driving_License</th>\n",
              "      <th>Region_Code</th>\n",
              "      <th>Previously_Insured</th>\n",
              "      <th>Policy_Sales_Channel</th>\n",
              "      <th>Vintage</th>\n",
              "      <th>Response</th>\n",
              "    </tr>\n",
              "  </thead>\n",
              "  <tbody>\n",
              "    <tr>\n",
              "      <th>Gender</th>\n",
              "      <td>1.000000</td>\n",
              "      <td>-0.112625</td>\n",
              "      <td>0.091606</td>\n",
              "      <td>0.145545</td>\n",
              "      <td>-0.018374</td>\n",
              "      <td>0.000604</td>\n",
              "      <td>-0.081932</td>\n",
              "      <td>-0.111159</td>\n",
              "      <td>-0.002517</td>\n",
              "      <td>0.052440</td>\n",
              "    </tr>\n",
              "    <tr>\n",
              "      <th>Vehicle_Age</th>\n",
              "      <td>-0.112625</td>\n",
              "      <td>1.000000</td>\n",
              "      <td>-0.174238</td>\n",
              "      <td>-0.522300</td>\n",
              "      <td>0.030173</td>\n",
              "      <td>-0.027840</td>\n",
              "      <td>0.174783</td>\n",
              "      <td>0.388551</td>\n",
              "      <td>0.002484</td>\n",
              "      <td>-0.104078</td>\n",
              "    </tr>\n",
              "    <tr>\n",
              "      <th>Vehicle_Damage</th>\n",
              "      <td>0.091606</td>\n",
              "      <td>-0.174238</td>\n",
              "      <td>1.000000</td>\n",
              "      <td>0.267534</td>\n",
              "      <td>-0.016622</td>\n",
              "      <td>0.028235</td>\n",
              "      <td>-0.824143</td>\n",
              "      <td>-0.224377</td>\n",
              "      <td>-0.002064</td>\n",
              "      <td>0.354400</td>\n",
              "    </tr>\n",
              "    <tr>\n",
              "      <th>Age</th>\n",
              "      <td>0.145545</td>\n",
              "      <td>-0.522300</td>\n",
              "      <td>0.267534</td>\n",
              "      <td>1.000000</td>\n",
              "      <td>-0.079782</td>\n",
              "      <td>0.042574</td>\n",
              "      <td>-0.254682</td>\n",
              "      <td>-0.577826</td>\n",
              "      <td>-0.001264</td>\n",
              "      <td>0.111147</td>\n",
              "    </tr>\n",
              "    <tr>\n",
              "      <th>Driving_License</th>\n",
              "      <td>-0.018374</td>\n",
              "      <td>0.030173</td>\n",
              "      <td>-0.016622</td>\n",
              "      <td>-0.079782</td>\n",
              "      <td>1.000000</td>\n",
              "      <td>-0.001081</td>\n",
              "      <td>0.014969</td>\n",
              "      <td>0.043731</td>\n",
              "      <td>-0.000848</td>\n",
              "      <td>0.010155</td>\n",
              "    </tr>\n",
              "    <tr>\n",
              "      <th>Region_Code</th>\n",
              "      <td>0.000604</td>\n",
              "      <td>-0.027840</td>\n",
              "      <td>0.028235</td>\n",
              "      <td>0.042574</td>\n",
              "      <td>-0.001081</td>\n",
              "      <td>1.000000</td>\n",
              "      <td>-0.024659</td>\n",
              "      <td>-0.042420</td>\n",
              "      <td>-0.002750</td>\n",
              "      <td>0.010570</td>\n",
              "    </tr>\n",
              "    <tr>\n",
              "      <th>Previously_Insured</th>\n",
              "      <td>-0.081932</td>\n",
              "      <td>0.174783</td>\n",
              "      <td>-0.824143</td>\n",
              "      <td>-0.254682</td>\n",
              "      <td>0.014969</td>\n",
              "      <td>-0.024659</td>\n",
              "      <td>1.000000</td>\n",
              "      <td>0.219381</td>\n",
              "      <td>0.002537</td>\n",
              "      <td>-0.341170</td>\n",
              "    </tr>\n",
              "    <tr>\n",
              "      <th>Policy_Sales_Channel</th>\n",
              "      <td>-0.111159</td>\n",
              "      <td>0.388551</td>\n",
              "      <td>-0.224377</td>\n",
              "      <td>-0.577826</td>\n",
              "      <td>0.043731</td>\n",
              "      <td>-0.042420</td>\n",
              "      <td>0.219381</td>\n",
              "      <td>1.000000</td>\n",
              "      <td>0.000002</td>\n",
              "      <td>-0.139042</td>\n",
              "    </tr>\n",
              "    <tr>\n",
              "      <th>Vintage</th>\n",
              "      <td>-0.002517</td>\n",
              "      <td>0.002484</td>\n",
              "      <td>-0.002064</td>\n",
              "      <td>-0.001264</td>\n",
              "      <td>-0.000848</td>\n",
              "      <td>-0.002750</td>\n",
              "      <td>0.002537</td>\n",
              "      <td>0.000002</td>\n",
              "      <td>1.000000</td>\n",
              "      <td>-0.001050</td>\n",
              "    </tr>\n",
              "    <tr>\n",
              "      <th>Response</th>\n",
              "      <td>0.052440</td>\n",
              "      <td>-0.104078</td>\n",
              "      <td>0.354400</td>\n",
              "      <td>0.111147</td>\n",
              "      <td>0.010155</td>\n",
              "      <td>0.010570</td>\n",
              "      <td>-0.341170</td>\n",
              "      <td>-0.139042</td>\n",
              "      <td>-0.001050</td>\n",
              "      <td>1.000000</td>\n",
              "    </tr>\n",
              "  </tbody>\n",
              "</table>\n",
              "</div>"
            ],
            "text/plain": [
              "                        Gender  Vehicle_Age  Vehicle_Damage       Age  \\\n",
              "Gender                1.000000    -0.112625        0.091606  0.145545   \n",
              "Vehicle_Age          -0.112625     1.000000       -0.174238 -0.522300   \n",
              "Vehicle_Damage        0.091606    -0.174238        1.000000  0.267534   \n",
              "Age                   0.145545    -0.522300        0.267534  1.000000   \n",
              "Driving_License      -0.018374     0.030173       -0.016622 -0.079782   \n",
              "Region_Code           0.000604    -0.027840        0.028235  0.042574   \n",
              "Previously_Insured   -0.081932     0.174783       -0.824143 -0.254682   \n",
              "Policy_Sales_Channel -0.111159     0.388551       -0.224377 -0.577826   \n",
              "Vintage              -0.002517     0.002484       -0.002064 -0.001264   \n",
              "Response              0.052440    -0.104078        0.354400  0.111147   \n",
              "\n",
              "                      Driving_License  Region_Code  Previously_Insured  \\\n",
              "Gender                      -0.018374     0.000604           -0.081932   \n",
              "Vehicle_Age                  0.030173    -0.027840            0.174783   \n",
              "Vehicle_Damage              -0.016622     0.028235           -0.824143   \n",
              "Age                         -0.079782     0.042574           -0.254682   \n",
              "Driving_License              1.000000    -0.001081            0.014969   \n",
              "Region_Code                 -0.001081     1.000000           -0.024659   \n",
              "Previously_Insured           0.014969    -0.024659            1.000000   \n",
              "Policy_Sales_Channel         0.043731    -0.042420            0.219381   \n",
              "Vintage                     -0.000848    -0.002750            0.002537   \n",
              "Response                     0.010155     0.010570           -0.341170   \n",
              "\n",
              "                      Policy_Sales_Channel   Vintage  Response  \n",
              "Gender                           -0.111159 -0.002517  0.052440  \n",
              "Vehicle_Age                       0.388551  0.002484 -0.104078  \n",
              "Vehicle_Damage                   -0.224377 -0.002064  0.354400  \n",
              "Age                              -0.577826 -0.001264  0.111147  \n",
              "Driving_License                   0.043731 -0.000848  0.010155  \n",
              "Region_Code                      -0.042420 -0.002750  0.010570  \n",
              "Previously_Insured                0.219381  0.002537 -0.341170  \n",
              "Policy_Sales_Channel              1.000000  0.000002 -0.139042  \n",
              "Vintage                           0.000002  1.000000 -0.001050  \n",
              "Response                         -0.139042 -0.001050  1.000000  "
            ]
          },
          "metadata": {
            "tags": []
          },
          "execution_count": 10
        }
      ]
    },
    {
      "cell_type": "code",
      "metadata": {
        "id": "r5sj4wj0c6qp",
        "outputId": "6e1607c9-3fb6-4c23-f93a-0aadb0740271"
      },
      "source": [
        "for i in range(len(correlation_matrix.columns)):\n",
        "    for j in range(i):\n",
        "        if abs(correlation_matrix.iloc[i, j]) > 0.8:\n",
        "            colname = correlation_matrix.columns[i]\n",
        "            correlated_features.add(colname)\n",
        "\n",
        "train_df.drop(columns=correlated_features)"
      ],
      "execution_count": null,
      "outputs": [
        {
          "output_type": "execute_result",
          "data": {
            "text/html": [
              "<div>\n",
              "<style scoped>\n",
              "    .dataframe tbody tr th:only-of-type {\n",
              "        vertical-align: middle;\n",
              "    }\n",
              "\n",
              "    .dataframe tbody tr th {\n",
              "        vertical-align: top;\n",
              "    }\n",
              "\n",
              "    .dataframe thead th {\n",
              "        text-align: right;\n",
              "    }\n",
              "</style>\n",
              "<table border=\"1\" class=\"dataframe\">\n",
              "  <thead>\n",
              "    <tr style=\"text-align: right;\">\n",
              "      <th></th>\n",
              "      <th>Gender</th>\n",
              "      <th>Vehicle_Age</th>\n",
              "      <th>Vehicle_Damage</th>\n",
              "      <th>Age</th>\n",
              "      <th>Driving_License</th>\n",
              "      <th>Region_Code</th>\n",
              "      <th>Policy_Sales_Channel</th>\n",
              "      <th>Vintage</th>\n",
              "      <th>Response</th>\n",
              "    </tr>\n",
              "  </thead>\n",
              "  <tbody>\n",
              "    <tr>\n",
              "      <th>0</th>\n",
              "      <td>1</td>\n",
              "      <td>2</td>\n",
              "      <td>1</td>\n",
              "      <td>44</td>\n",
              "      <td>1</td>\n",
              "      <td>28.0</td>\n",
              "      <td>26.0</td>\n",
              "      <td>217</td>\n",
              "      <td>1</td>\n",
              "    </tr>\n",
              "    <tr>\n",
              "      <th>1</th>\n",
              "      <td>1</td>\n",
              "      <td>0</td>\n",
              "      <td>0</td>\n",
              "      <td>76</td>\n",
              "      <td>1</td>\n",
              "      <td>3.0</td>\n",
              "      <td>26.0</td>\n",
              "      <td>183</td>\n",
              "      <td>0</td>\n",
              "    </tr>\n",
              "    <tr>\n",
              "      <th>2</th>\n",
              "      <td>1</td>\n",
              "      <td>2</td>\n",
              "      <td>1</td>\n",
              "      <td>47</td>\n",
              "      <td>1</td>\n",
              "      <td>28.0</td>\n",
              "      <td>26.0</td>\n",
              "      <td>27</td>\n",
              "      <td>1</td>\n",
              "    </tr>\n",
              "    <tr>\n",
              "      <th>3</th>\n",
              "      <td>1</td>\n",
              "      <td>1</td>\n",
              "      <td>0</td>\n",
              "      <td>21</td>\n",
              "      <td>1</td>\n",
              "      <td>11.0</td>\n",
              "      <td>152.0</td>\n",
              "      <td>203</td>\n",
              "      <td>0</td>\n",
              "    </tr>\n",
              "    <tr>\n",
              "      <th>4</th>\n",
              "      <td>0</td>\n",
              "      <td>1</td>\n",
              "      <td>0</td>\n",
              "      <td>29</td>\n",
              "      <td>1</td>\n",
              "      <td>41.0</td>\n",
              "      <td>152.0</td>\n",
              "      <td>39</td>\n",
              "      <td>0</td>\n",
              "    </tr>\n",
              "    <tr>\n",
              "      <th>...</th>\n",
              "      <td>...</td>\n",
              "      <td>...</td>\n",
              "      <td>...</td>\n",
              "      <td>...</td>\n",
              "      <td>...</td>\n",
              "      <td>...</td>\n",
              "      <td>...</td>\n",
              "      <td>...</td>\n",
              "      <td>...</td>\n",
              "    </tr>\n",
              "    <tr>\n",
              "      <th>381104</th>\n",
              "      <td>1</td>\n",
              "      <td>0</td>\n",
              "      <td>0</td>\n",
              "      <td>74</td>\n",
              "      <td>1</td>\n",
              "      <td>26.0</td>\n",
              "      <td>26.0</td>\n",
              "      <td>88</td>\n",
              "      <td>0</td>\n",
              "    </tr>\n",
              "    <tr>\n",
              "      <th>381105</th>\n",
              "      <td>1</td>\n",
              "      <td>1</td>\n",
              "      <td>0</td>\n",
              "      <td>30</td>\n",
              "      <td>1</td>\n",
              "      <td>37.0</td>\n",
              "      <td>152.0</td>\n",
              "      <td>131</td>\n",
              "      <td>0</td>\n",
              "    </tr>\n",
              "    <tr>\n",
              "      <th>381106</th>\n",
              "      <td>1</td>\n",
              "      <td>1</td>\n",
              "      <td>0</td>\n",
              "      <td>21</td>\n",
              "      <td>1</td>\n",
              "      <td>30.0</td>\n",
              "      <td>160.0</td>\n",
              "      <td>161</td>\n",
              "      <td>0</td>\n",
              "    </tr>\n",
              "    <tr>\n",
              "      <th>381107</th>\n",
              "      <td>0</td>\n",
              "      <td>2</td>\n",
              "      <td>1</td>\n",
              "      <td>68</td>\n",
              "      <td>1</td>\n",
              "      <td>14.0</td>\n",
              "      <td>124.0</td>\n",
              "      <td>74</td>\n",
              "      <td>0</td>\n",
              "    </tr>\n",
              "    <tr>\n",
              "      <th>381108</th>\n",
              "      <td>1</td>\n",
              "      <td>0</td>\n",
              "      <td>0</td>\n",
              "      <td>46</td>\n",
              "      <td>1</td>\n",
              "      <td>29.0</td>\n",
              "      <td>26.0</td>\n",
              "      <td>237</td>\n",
              "      <td>0</td>\n",
              "    </tr>\n",
              "  </tbody>\n",
              "</table>\n",
              "<p>381109 rows × 9 columns</p>\n",
              "</div>"
            ],
            "text/plain": [
              "        Gender  Vehicle_Age  Vehicle_Damage  Age  Driving_License  \\\n",
              "0            1            2               1   44                1   \n",
              "1            1            0               0   76                1   \n",
              "2            1            2               1   47                1   \n",
              "3            1            1               0   21                1   \n",
              "4            0            1               0   29                1   \n",
              "...        ...          ...             ...  ...              ...   \n",
              "381104       1            0               0   74                1   \n",
              "381105       1            1               0   30                1   \n",
              "381106       1            1               0   21                1   \n",
              "381107       0            2               1   68                1   \n",
              "381108       1            0               0   46                1   \n",
              "\n",
              "        Region_Code  Policy_Sales_Channel  Vintage  Response  \n",
              "0              28.0                  26.0      217         1  \n",
              "1               3.0                  26.0      183         0  \n",
              "2              28.0                  26.0       27         1  \n",
              "3              11.0                 152.0      203         0  \n",
              "4              41.0                 152.0       39         0  \n",
              "...             ...                   ...      ...       ...  \n",
              "381104         26.0                  26.0       88         0  \n",
              "381105         37.0                 152.0      131         0  \n",
              "381106         30.0                 160.0      161         0  \n",
              "381107         14.0                 124.0       74         0  \n",
              "381108         29.0                  26.0      237         0  \n",
              "\n",
              "[381109 rows x 9 columns]"
            ]
          },
          "metadata": {
            "tags": []
          },
          "execution_count": 11
        }
      ]
    },
    {
      "cell_type": "code",
      "metadata": {
        "id": "jLWL80D4c6qq"
      },
      "source": [
        "X_train = train_df.drop('Response', axis=1)\n",
        "y_train = train_df['Response']\n",
        "y_train=y_train.astype(int)"
      ],
      "execution_count": null,
      "outputs": []
    },
    {
      "cell_type": "markdown",
      "metadata": {
        "id": "X-HseLeIc6qq"
      },
      "source": [
        "# LOGISTIC REGRESSION"
      ]
    },
    {
      "cell_type": "code",
      "metadata": {
        "id": "32pwQGBSc6qq",
        "outputId": "690150b5-e58b-44bb-d28c-0e5b37666bfb"
      },
      "source": [
        "logReg=LogisticRegression(solver='lbfgs')\n",
        "rfe = RFE(logReg, 20)\n",
        "rfe = rfe.fit(X_train, y_train.values.ravel())\n",
        "#Checking for the features are they important\n",
        "print(rfe.support_)"
      ],
      "execution_count": null,
      "outputs": [
        {
          "output_type": "stream",
          "text": [
            "E:\\Anaconda3\\lib\\site-packages\\sklearn\\utils\\validation.py:68: FutureWarning: Pass n_features_to_select=20 as keyword args. From version 0.25 passing these as positional arguments will result in an error\n",
            "  warnings.warn(\"Pass {} as keyword args. From version 0.25 \"\n"
          ],
          "name": "stderr"
        },
        {
          "output_type": "stream",
          "text": [
            "[ True  True  True  True  True  True  True  True  True]\n"
          ],
          "name": "stdout"
        },
        {
          "output_type": "stream",
          "text": [
            "E:\\Anaconda3\\lib\\site-packages\\sklearn\\linear_model\\_logistic.py:762: ConvergenceWarning: lbfgs failed to converge (status=1):\n",
            "STOP: TOTAL NO. of ITERATIONS REACHED LIMIT.\n",
            "\n",
            "Increase the number of iterations (max_iter) or scale the data as shown in:\n",
            "    https://scikit-learn.org/stable/modules/preprocessing.html\n",
            "Please also refer to the documentation for alternative solver options:\n",
            "    https://scikit-learn.org/stable/modules/linear_model.html#logistic-regression\n",
            "  n_iter_i = _check_optimize_result(\n"
          ],
          "name": "stderr"
        }
      ]
    },
    {
      "cell_type": "code",
      "metadata": {
        "id": "Mj-VHT9Cc6qs"
      },
      "source": [
        "y_test=target['Response']"
      ],
      "execution_count": null,
      "outputs": []
    },
    {
      "cell_type": "code",
      "metadata": {
        "id": "PAmnjRfwc6qt",
        "outputId": "b7b20029-d97c-4387-cda7-72c5a88f2ee1"
      },
      "source": [
        "logreg = LogisticRegression()\n",
        "logreg.fit(X_train, y_train)\n",
        "y_pred = logreg.predict(test_df)\n",
        "print(confusion_matrix(y_test,y_pred))\n",
        "print('Accuracy of logistic regression classifier on train set: {:.4f}'.format(logreg.score(X_train, y_train)))\n",
        "print('Accuracy of logistic regression classifier on test set: {:.4f}'.format(logreg.score(test_df, y_test)))"
      ],
      "execution_count": null,
      "outputs": [
        {
          "output_type": "stream",
          "text": [
            "E:\\Anaconda3\\lib\\site-packages\\sklearn\\linear_model\\_logistic.py:762: ConvergenceWarning: lbfgs failed to converge (status=1):\n",
            "STOP: TOTAL NO. of ITERATIONS REACHED LIMIT.\n",
            "\n",
            "Increase the number of iterations (max_iter) or scale the data as shown in:\n",
            "    https://scikit-learn.org/stable/modules/preprocessing.html\n",
            "Please also refer to the documentation for alternative solver options:\n",
            "    https://scikit-learn.org/stable/modules/linear_model.html#logistic-regression\n",
            "  n_iter_i = _check_optimize_result(\n"
          ],
          "name": "stderr"
        },
        {
          "output_type": "stream",
          "text": [
            "[[126936    101]\n",
            " [     0      0]]\n",
            "Accuracy of logistic regression classifier on train set: 0.8766\n",
            "Accuracy of logistic regression classifier on test set: 0.9992\n"
          ],
          "name": "stdout"
        }
      ]
    },
    {
      "cell_type": "markdown",
      "metadata": {
        "id": "h24TuiFdc6qt"
      },
      "source": [
        "# DECISION TREE ALGORITHM"
      ]
    },
    {
      "cell_type": "code",
      "metadata": {
        "id": "A50XvPTxc6qt",
        "outputId": "bd563909-9ba5-4e49-a7cb-6c7035124a60"
      },
      "source": [
        "dtree=DecisionTreeClassifier()\n",
        "dtree.fit(X_train,y_train)\n",
        "dtree.score(test_df,y_test)\n",
        "y_pred = dtree.predict(test_df)\n",
        "print(confusion_matrix(y_test,y_pred))\n",
        "print('Accuracy of decision tree classifier on train set: {:.4f}'.format(dtree.score(X_train, y_train)))\n",
        "print('Accuracy of decision tree classifier on test set: {:.4f}'.format(dtree.score(test_df, y_test)))"
      ],
      "execution_count": null,
      "outputs": [
        {
          "output_type": "stream",
          "text": [
            "[[111945  15092]\n",
            " [     0      0]]\n",
            "Accuracy of decision tree classifier on train set: 0.9832\n",
            "Accuracy of decision tree classifier on test set: 0.8812\n"
          ],
          "name": "stdout"
        }
      ]
    },
    {
      "cell_type": "code",
      "metadata": {
        "id": "XAnBIpanc6qv"
      },
      "source": [
        ""
      ],
      "execution_count": null,
      "outputs": []
    }
  ]
}